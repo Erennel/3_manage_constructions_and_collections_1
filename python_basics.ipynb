{
 "cells": [
  {
   "cell_type": "markdown",
   "metadata": {},
   "source": [
    "**Задание 1**. Даны 2 строки: *long_phrase* и *short_phrase*. \n",
    "Напишите код, который проверяет действительно ли длинная фраза *long_phrase* длиннее короткой *short_phrase*. И выводит *True* или *False* в зависимости от результата сравнения."
   ]
  },
  {
   "cell_type": "code",
   "execution_count": 1,
   "metadata": {},
   "outputs": [],
   "source": [
    "long_phrase = 'Насколько проще было бы писать программы, если бы не заказчики'\n",
    "short_phrase = '640Кб должно хватить для любых задач. Билл Гейтс (по легенде)'"
   ]
  },
  {
   "cell_type": "code",
   "execution_count": 2,
   "metadata": {},
   "outputs": [
    {
     "data": {
      "text/plain": [
       "True"
      ]
     },
     "execution_count": 2,
     "metadata": {},
     "output_type": "execute_result"
    }
   ],
   "source": [
    "len(long_phrase)>len(short_phrase)"
   ]
  },
  {
   "cell_type": "markdown",
   "metadata": {},
   "source": [
    "**Задание 2**. Дано значение объема файла в байтах (*в мегабайте 2^20 байт*). Напишите перевод этого значения в мегабайты в формате: \"*Объем файла равен 213.68Mb*\"."
   ]
  },
  {
   "cell_type": "code",
   "execution_count": 6,
   "metadata": {},
   "outputs": [
    {
     "name": "stdout",
     "output_type": "stream",
     "text": [
      "Введите объем файла 1024\n",
      "Объем файла равен  0.0009765625 Mb\n"
     ]
    }
   ],
   "source": [
    "weight_mb = int(input('Введите объем файла '))\n",
    "print('Объем файла равен ', weight_mb/2**20, 'Mb')"
   ]
  },
  {
   "cell_type": "markdown",
   "metadata": {},
   "source": [
    "**Задание 3**. Разработать приложение для определения знака зодиака по дате рождения. Пример:\n",
    "\n",
    "Введите месяц: март\n",
    "\n",
    "Введите число: 6\n",
    "\n",
    "Вывод:\n",
    "Рыбы"
   ]
  },
  {
   "cell_type": "code",
   "execution_count": 27,
   "metadata": {},
   "outputs": [
    {
     "name": "stdout",
     "output_type": "stream",
     "text": [
      "Введите месяц: июнь\n",
      "Введите число: 28\n",
      "Вывод: Рак\n"
     ]
    }
   ],
   "source": [
    "month_1 = input('Введите месяц: ')\n",
    "month = f'{month_1.lower()}'\n",
    "date = int(input('Введите число: '))\n",
    "\n",
    "if (month == 'март' and date >= 21 and date <= 31) or (month == 'апрель' and date >= 1 and date <= 19):\n",
    "        print('Вывод: Овен')\n",
    "elif (month == 'апрель' and date >= 20 and date <= 30) or (month == 'май' and date >= 1 and date <= 20):\n",
    "        print('Вывод: Телец')\n",
    "elif (month == 'май' and date >= 21 and date <= 31) or (month == 'июнь' and date >= 1 and date <= 20):\n",
    "        print('Вывод: Близнецы')\n",
    "elif (month == 'июнь' and date >= 21 and date <= 30) or (month == 'июль' and date >= 1 and date <= 20):\n",
    "        print('Вывод: Рак')\n",
    "elif (month == 'июль' and date >= 21 and date <= 31) or (month == 'август' and date >= 1 and date <= 22):\n",
    "        print('Вывод: Лев')\n",
    "elif (month == 'август' and date >= 23 and date <= 31) or (month == 'сентябрь' and date >= 1 and date <= 22):\n",
    "        print('Вывод: Дева')\n",
    "elif (month == 'сентябрь' and date >= 23 and date <= 30) or (month == 'октябрь' and date >= 1 and date <= 22):\n",
    "        print('Вывод: Весы')\n",
    "elif (month == 'октябрь' and date >= 23 and date <= 31) or (month == 'ноябрь' and date >= 1 and date <= 21):\n",
    "        print('Вывод: Скорпион')\n",
    "elif (month == 'ноябрь' and date >= 22 and date <= 30) or (month == 'декабрь' and date >= 1 and date <= 21):\n",
    "        print('Вывод: Стрелец')\n",
    "elif (month == 'декабрь' and date >= 22 and date <= 31) or (month == 'январь' and date >= 1 and date <= 19):\n",
    "        print('Вывод: Козерог')\n",
    "elif (month == 'январь' and date >= 20 and date <= 30) or (month == 'февраль' and date >= 1 and date <= 18):\n",
    "        print('Вывод: Водолей')\n",
    "elif (month == 'февраль' and date >= 19 and date <= 29) or (month == 'март' and date >= 1 and date <= 20):\n",
    "        print('Вывод: Рыбы')\n",
    "else:\n",
    "    print('Кажется ты не с планеты Земля')\n"
   ]
  },
  {
   "cell_type": "markdown",
   "metadata": {},
   "source": [
    "**Задание 4**. Нужно разработать приложение для финансового планирования.\n",
    "Приложение учитывает сколько уходит на ипотеку, \"на жизнь\" и сколько нужно отложить на пенсию.\n",
    "Пользователь вводит:\n",
    "- заработанную плату в месяц.\n",
    "- сколько процентов от ЗП уходит на ипотеку.\n",
    "- сколько процентов от ЗП уходит \"на жизнь\".\n",
    "- сколько раз приходит премия в год.\n",
    "\n",
    "Остальная часть заработанной платы откладывается на пенсию.\n",
    "\n",
    "Также пользователю приходит премия в размере зарплаты, от которой половина уходит на отпуск, а вторая половина откладывается.\n",
    "\n",
    "Программа должна учитывать сколько премий было в год.\n",
    "\n",
    "Нужно вывести сколько денег тратит пользователь на ипотеку и сколько он накопит за год.\n",
    "\n",
    "Пример:\n",
    "\n",
    "Введите заработанную плату в месяц: 100000\n",
    "\n",
    "Введите сколько процентов уходит на ипотеку: 30\n",
    "\n",
    "Введите сколько процентов уходит на жизнь: 50\n",
    "\n",
    "Введите количество премий за год: 2\n",
    "\n",
    "Вывод:\n",
    "На ипотеку было потрачено: 360000 рублей\n",
    "Было накоплено: 340000 рублей"
   ]
  },
  {
   "cell_type": "code",
   "execution_count": 28,
   "metadata": {},
   "outputs": [
    {
     "name": "stdout",
     "output_type": "stream",
     "text": [
      "Введите заработанную плату в месяц: 30000\n",
      "Введите сколько процентов уходит на ипотеку: 60\n",
      "Введите сколько процентов уходит на жизнь: 20\n",
      "Введите количество премий за год: 0\n",
      "Вывод: На ипотеку было потрачено: 216000.0 рублей Было накоплено: 72000.0 рублей\n"
     ]
    }
   ],
   "source": [
    "salary_month = int(input('Введите заработанную плату в месяц: '))\n",
    "percent_salary_mortgage = float(input('Введите сколько процентов уходит на ипотеку: '))\n",
    "percent_salary_live = float(input('Введите сколько процентов уходит на жизнь: '))\n",
    "bonuses_per_year = int(input('Введите количество премий за год: '))\n",
    "\n",
    "running_total= ((bonuses_per_year*salary_month)/2)+(salary_month*12)-((salary_month*12)*(percent_salary_live/100))-((salary_month*12)*(percent_salary_mortgage/100))\n",
    "\n",
    "print(f'Вывод: На ипотеку было потрачено: {(salary_month*(percent_salary_mortgage/100))*12} рублей Было накоплено: {running_total} рублей')"
   ]
  },
  {
   "cell_type": "code",
   "execution_count": null,
   "metadata": {},
   "outputs": [],
   "source": []
  }
 ],
 "metadata": {
  "kernelspec": {
   "display_name": "Python 3",
   "language": "python",
   "name": "python3"
  },
  "language_info": {
   "codemirror_mode": {
    "name": "ipython",
    "version": 3
   },
   "file_extension": ".py",
   "mimetype": "text/x-python",
   "name": "python",
   "nbconvert_exporter": "python",
   "pygments_lexer": "ipython3",
   "version": "3.8.2"
  }
 },
 "nbformat": 4,
 "nbformat_minor": 2
}
